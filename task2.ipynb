{
 "cells": [
  {
   "cell_type": "markdown",
   "metadata": {},
   "source": [
    "# Олимпиада НТИ - как выиграть за 30 строк"
   ]
  },
  {
   "cell_type": "markdown",
   "metadata": {},
   "source": [
    "![](https://pp.userapi.com/c638719/v638719005/2f6da/mFHY83I9u2k.jpg)"
   ]
  },
  {
   "cell_type": "markdown",
   "metadata": {},
   "source": [
    "### Машинное обучение и анализ данных - задача №2\n",
    "\n",
    "\n",
    "\n",
    "Выделение из текста заранее известных сущностей - одна из самых распространенных\n",
    "\n",
    "Середина двадцатого века один из самых сложных периодов нашей страны. По разным причинам (на войне, или в результате репрессий) пропало множество людей, о которых практически не осталось данных. Все данные которые мы можем выяснить это скупые карточки и журнальные записи, оставленные в разных формах. Множество общественных организаций занимается оцифровкой этих данных, чтобы наши соотечественники могли узнать судьбу своей семьи.   Однако, как писалось ранее, эти данные представляют собой скупые  и не структурированные заметки из разных журналов и форм, для того чтобы люди могли найти своих родственников необходимо из этих заметок выделить как можно больше классифицированной информации (сущностей)\n",
    "\n",
    "Необходимо осуществить выделение сущностей из коротких текстов карточек. При этом не все записи содержат все сущности. Задача называется named entity recognition.\n",
    "Список сущностей\n",
    "\n",
    "Имя, фамилия, отчество, \"никнейм или кличка\", пол, год рождения, место рождения, работы, место проживания, был-ли арстован, день ареста, месяц ареста, год ареста,  кем арестован,  день суда, месяц суда, год суда, статья обвинения, наказание, был-ли растрелян, день расстрела, месяц расстрела, год расстрела, день реабилитации, месяц реабилитации, год реабилитации, источник, были ли дети, сам текст.\n",
    "\n",
    "\n",
    "В качестве обучающей выборки представлены уже разобранные варианты."
   ]
  },
  {
   "cell_type": "markdown",
   "metadata": {},
   "source": [
    "# Решение\n",
    "\n",
    "Задача состоит из трёх датасетов. Давайте их скачаем.\n",
    "\n",
    "    Важно! Датасет из которого мы будем генерировать ответ нельзя использовать для вытаскивания фичей. На олимпиде выдавали кусок датасета на 5 минут, чтобы ты применил к нему свой код, а не руками доставал значения."
   ]
  },
  {
   "cell_type": "code",
   "execution_count": null,
   "metadata": {
    "collapsed": false
   },
   "outputs": [],
   "source": [
    "# Датасет на котором можно обучаться\n",
    "!wget https://tvorog.me/task2_train.csv"
   ]
  },
  {
   "cell_type": "code",
   "execution_count": 1,
   "metadata": {
    "collapsed": false
   },
   "outputs": [],
   "source": [
    "import re\n",
    "import pandas as pd"
   ]
  },
  {
   "cell_type": "code",
   "execution_count": 2,
   "metadata": {
    "collapsed": false
   },
   "outputs": [],
   "source": [
    "# Загружаем данные в pandas\n",
    "data = pd.DataFrame.from_csv(\"task2_train.csv\")"
   ]
  },
  {
   "cell_type": "code",
   "execution_count": 8,
   "metadata": {
    "collapsed": false
   },
   "outputs": [
    {
     "data": {
      "text/html": [
       "<div>\n",
       "<table border=\"1\" class=\"dataframe\">\n",
       "  <thead>\n",
       "    <tr style=\"text-align: right;\">\n",
       "      <th></th>\n",
       "      <th>id</th>\n",
       "      <th>lastname</th>\n",
       "      <th>firstname</th>\n",
       "      <th>middlename</th>\n",
       "      <th>alternative_name</th>\n",
       "      <th>sex</th>\n",
       "      <th>birthyear</th>\n",
       "      <th>birth_place</th>\n",
       "      <th>job</th>\n",
       "      <th>liveplace</th>\n",
       "      <th>...</th>\n",
       "      <th>is_shooted</th>\n",
       "      <th>shooted_day</th>\n",
       "      <th>shooted_month</th>\n",
       "      <th>shooted_year</th>\n",
       "      <th>rehabilitation_day</th>\n",
       "      <th>rehabilitation_month</th>\n",
       "      <th>rehabilitation_year</th>\n",
       "      <th>source</th>\n",
       "      <th>had_children</th>\n",
       "      <th>text</th>\n",
       "    </tr>\n",
       "  </thead>\n",
       "  <tbody>\n",
       "    <tr>\n",
       "      <th>38123</th>\n",
       "      <td>111202</td>\n",
       "      <td>Пекин</td>\n",
       "      <td>Михаил</td>\n",
       "      <td>Иванович</td>\n",
       "      <td>NaN</td>\n",
       "      <td>м</td>\n",
       "      <td>1894</td>\n",
       "      <td>г.Казань</td>\n",
       "      <td>техник-химик, завод СК-4.</td>\n",
       "      <td>г.Казань</td>\n",
       "      <td>...</td>\n",
       "      <td>Да</td>\n",
       "      <td>3.0</td>\n",
       "      <td>1.0</td>\n",
       "      <td>1938.0</td>\n",
       "      <td>28.0</td>\n",
       "      <td>6.0</td>\n",
       "      <td>1989.0</td>\n",
       "      <td>КП Республики Татарстан</td>\n",
       "      <td>NaN</td>\n",
       "      <td>НИКИТИН Иван Алексеевич, 1922 г.р., место рожд...</td>\n",
       "    </tr>\n",
       "    <tr>\n",
       "      <th>41651</th>\n",
       "      <td>114494</td>\n",
       "      <td>Савельев</td>\n",
       "      <td>Иван</td>\n",
       "      <td>Михайлович</td>\n",
       "      <td>NaN</td>\n",
       "      <td>м</td>\n",
       "      <td>1879</td>\n",
       "      <td>Лаишевский р-н, с.Никольское</td>\n",
       "      <td>середняк, церковный староста.</td>\n",
       "      <td>Лаишевский р-н, с.Никольское</td>\n",
       "      <td>...</td>\n",
       "      <td>NaN</td>\n",
       "      <td>NaN</td>\n",
       "      <td>NaN</td>\n",
       "      <td>NaN</td>\n",
       "      <td>5.0</td>\n",
       "      <td>6.0</td>\n",
       "      <td>1991.0</td>\n",
       "      <td>КП Республики Татарстан</td>\n",
       "      <td>NaN</td>\n",
       "      <td>Савельев Иван Михайлович, 1879 г.р., место рож...</td>\n",
       "    </tr>\n",
       "    <tr>\n",
       "      <th>45583</th>\n",
       "      <td>118829</td>\n",
       "      <td>Сульг</td>\n",
       "      <td>Адам</td>\n",
       "      <td>Иоаннович</td>\n",
       "      <td>| |Иоганнович</td>\n",
       "      <td>м</td>\n",
       "      <td>1896</td>\n",
       "      <td>Лифляндская губ., Веровский у., с.Корыстово</td>\n",
       "      <td>дежурный по ст.</td>\n",
       "      <td>Казанская ж.д., ст.Бобыльская.</td>\n",
       "      <td>...</td>\n",
       "      <td>NaN</td>\n",
       "      <td>NaN</td>\n",
       "      <td>NaN</td>\n",
       "      <td>NaN</td>\n",
       "      <td>NaN</td>\n",
       "      <td>NaN</td>\n",
       "      <td>NaN</td>\n",
       "      <td>КП Республики Татарстан</td>\n",
       "      <td>NaN</td>\n",
       "      <td>Сульг Адам Иоаннович (Иоганнович), 1896 г.р., ...</td>\n",
       "    </tr>\n",
       "    <tr>\n",
       "      <th>5036</th>\n",
       "      <td>401513</td>\n",
       "      <td>Маликов</td>\n",
       "      <td>Иосиф</td>\n",
       "      <td>Миронович</td>\n",
       "      <td>NaN</td>\n",
       "      <td>м</td>\n",
       "      <td>1871</td>\n",
       "      <td>х. Хворостяной Яковлевского р-на</td>\n",
       "      <td>крестьянин.</td>\n",
       "      <td>х. Хворостяной Яковлевского р-на</td>\n",
       "      <td>...</td>\n",
       "      <td>NaN</td>\n",
       "      <td>NaN</td>\n",
       "      <td>NaN</td>\n",
       "      <td>NaN</td>\n",
       "      <td>23.0</td>\n",
       "      <td>2.0</td>\n",
       "      <td>2000.0</td>\n",
       "      <td>КП Белгородской обл.</td>\n",
       "      <td>NaN</td>\n",
       "      <td>Маликов Иосиф Миронович, 1871 г.р., ур. х. Хво...</td>\n",
       "    </tr>\n",
       "    <tr>\n",
       "      <th>31127</th>\n",
       "      <td>107308</td>\n",
       "      <td>Моряшов</td>\n",
       "      <td>Егор</td>\n",
       "      <td>Степанович</td>\n",
       "      <td>NaN</td>\n",
       "      <td>м</td>\n",
       "      <td>1887</td>\n",
       "      <td>Арский р-н, п.Мокрый Луг (?)</td>\n",
       "      <td>Крестьянин.</td>\n",
       "      <td>Арский р-н, п.Мокрый Луг (?)</td>\n",
       "      <td>...</td>\n",
       "      <td>NaN</td>\n",
       "      <td>NaN</td>\n",
       "      <td>NaN</td>\n",
       "      <td>NaN</td>\n",
       "      <td>4.0</td>\n",
       "      <td>9.0</td>\n",
       "      <td>1989.0</td>\n",
       "      <td>КП Республики Татарстан</td>\n",
       "      <td>NaN</td>\n",
       "      <td>Моряшов Егор Степанович, 1887 г.р., место рожд...</td>\n",
       "    </tr>\n",
       "  </tbody>\n",
       "</table>\n",
       "<p>5 rows × 30 columns</p>\n",
       "</div>"
      ],
      "text/plain": [
       "           id  lastname firstname  middlename alternative_name sex birthyear  \\\n",
       "38123  111202     Пекин    Михаил    Иванович              NaN   м      1894   \n",
       "41651  114494  Савельев      Иван  Михайлович              NaN   м      1879   \n",
       "45583  118829     Сульг      Адам   Иоаннович    | |Иоганнович   м      1896   \n",
       "5036   401513   Маликов     Иосиф   Миронович              NaN   м      1871   \n",
       "31127  107308   Моряшов      Егор  Степанович              NaN   м      1887   \n",
       "\n",
       "                                       birth_place  \\\n",
       "38123                                     г.Казань   \n",
       "41651                 Лаишевский р-н, с.Никольское   \n",
       "45583  Лифляндская губ., Веровский у., с.Корыстово   \n",
       "5036              х. Хворостяной Яковлевского р-на   \n",
       "31127                 Арский р-н, п.Мокрый Луг (?)   \n",
       "\n",
       "                                 job                         liveplace  \\\n",
       "38123      техник-химик, завод СК-4.                          г.Казань   \n",
       "41651  середняк, церковный староста.      Лаишевский р-н, с.Никольское   \n",
       "45583                дежурный по ст.    Казанская ж.д., ст.Бобыльская.   \n",
       "5036                     крестьянин.  х. Хворостяной Яковлевского р-на   \n",
       "31127                    Крестьянин.      Арский р-н, п.Мокрый Луг (?)   \n",
       "\n",
       "                             ...                         is_shooted  \\\n",
       "38123                        ...                                 Да   \n",
       "41651                        ...                                NaN   \n",
       "45583                        ...                                NaN   \n",
       "5036                         ...                                NaN   \n",
       "31127                        ...                                NaN   \n",
       "\n",
       "       shooted_day  shooted_month  shooted_year rehabilitation_day  \\\n",
       "38123          3.0            1.0        1938.0               28.0   \n",
       "41651          NaN            NaN           NaN                5.0   \n",
       "45583          NaN            NaN           NaN                NaN   \n",
       "5036           NaN            NaN           NaN               23.0   \n",
       "31127          NaN            NaN           NaN                4.0   \n",
       "\n",
       "       rehabilitation_month  rehabilitation_year                   source  \\\n",
       "38123                   6.0               1989.0  КП Республики Татарстан   \n",
       "41651                   6.0               1991.0  КП Республики Татарстан   \n",
       "45583                   NaN                  NaN  КП Республики Татарстан   \n",
       "5036                    2.0               2000.0     КП Белгородской обл.   \n",
       "31127                   9.0               1989.0  КП Республики Татарстан   \n",
       "\n",
       "      had_children                                               text  \n",
       "38123          NaN  НИКИТИН Иван Алексеевич, 1922 г.р., место рожд...  \n",
       "41651          NaN  Савельев Иван Михайлович, 1879 г.р., место рож...  \n",
       "45583          NaN  Сульг Адам Иоаннович (Иоганнович), 1896 г.р., ...  \n",
       "5036           NaN  Маликов Иосиф Миронович, 1871 г.р., ур. х. Хво...  \n",
       "31127          NaN  Моряшов Егор Степанович, 1887 г.р., место рожд...  \n",
       "\n",
       "[5 rows x 30 columns]"
      ]
     },
     "execution_count": 8,
     "metadata": {},
     "output_type": "execute_result"
    }
   ],
   "source": [
    "data.head() # посмотрим на них"
   ]
  },
  {
   "cell_type": "markdown",
   "metadata": {},
   "source": [
    "# Методы решения\n",
    "[Regexp](https://ru.wikipedia.org/wiki/%D0%A0%D0%B5%D0%B3%D1%83%D0%BB%D1%8F%D1%80%D0%BD%D1%8B%D0%B5_%D0%B2%D1%8B%D1%80%D0%B0%D0%B6%D0%B5%D0%BD%D0%B8%D1%8F) это то, что вы ищите!\n",
    "\n",
    "Далее будут примеры того, как доставать поля."
   ]
  },
  {
   "cell_type": "code",
   "execution_count": 9,
   "metadata": {
    "collapsed": true
   },
   "outputs": [],
   "source": [
    "get_years = lambda text: re.findall('[0-9]{1,2}.[0-9]{1,2}.[0-9]{2,4}', text)"
   ]
  },
  {
   "cell_type": "code",
   "execution_count": 20,
   "metadata": {
    "collapsed": false
   },
   "outputs": [],
   "source": [
    "years = data['text'].apply(get_years)"
   ]
  },
  {
   "cell_type": "code",
   "execution_count": 21,
   "metadata": {
    "collapsed": false
   },
   "outputs": [
    {
     "data": {
      "text/plain": [
       "38123                           [24.2.43, 15.6.43, 9.6.92]\n",
       "41651                 [4.11.28, 24.11.28, 10.5.29, 5.6.91]\n",
       "45583                           [21.2.38, 15.6.38, 3.9.44]\n",
       "5036                  [13.12.1929, 20.12.1929, 23.02.2000]\n",
       "31127                           [12.3.30, 22.3.30, 4.9.89]\n",
       "48180                                   [15.4.32, 17.5.32]\n",
       "53582                        [23.10.37, 25.5.40, 16.10.58]\n",
       "14285                                 [20.05.47, 10.05.89]\n",
       "55939    [28.11.35, 4.1.36, 23.4.38, 13.2.39, 4.11.42, ...\n",
       "54321                           [9.3.42, 20.6.42, 21.3.97]\n",
       "Name: text, dtype: object"
      ]
     },
     "execution_count": 21,
     "metadata": {},
     "output_type": "execute_result"
    }
   ],
   "source": [
    "years[:10]"
   ]
  },
  {
   "cell_type": "markdown",
   "metadata": {},
   "source": [
    "Иногда можно использовать не только regexp. Например, вытащить ФИО можно так:"
   ]
  },
  {
   "cell_type": "code",
   "execution_count": 15,
   "metadata": {
    "collapsed": true
   },
   "outputs": [],
   "source": [
    "get_name = lambda text: text.split()[0]"
   ]
  },
  {
   "cell_type": "code",
   "execution_count": 16,
   "metadata": {
    "collapsed": false
   },
   "outputs": [],
   "source": [
    "name = data['text'].apply(get_name)"
   ]
  },
  {
   "cell_type": "code",
   "execution_count": 18,
   "metadata": {
    "collapsed": false
   },
   "outputs": [
    {
     "data": {
      "text/plain": [
       "38123           НИКИТИН\n",
       "41651          Савельев\n",
       "45583             Сульг\n",
       "5036            Маликов\n",
       "31127           Моряшов\n",
       "48180           Федоров\n",
       "53582           ШУЙСКИЙ\n",
       "14285    КРЫЛОВА-ТЮКИНА\n",
       "55939          Коноплев\n",
       "54321           ЯКУПОВА\n",
       "Name: text, dtype: object"
      ]
     },
     "execution_count": 18,
     "metadata": {},
     "output_type": "execute_result"
    }
   ],
   "source": [
    "name[:10]"
   ]
  },
  {
   "cell_type": "code",
   "execution_count": null,
   "metadata": {
    "collapsed": true
   },
   "outputs": [],
   "source": []
  }
 ],
 "metadata": {
  "kernelspec": {
   "display_name": "Python 3",
   "language": "python",
   "name": "python3"
  },
  "language_info": {
   "codemirror_mode": {
    "name": "ipython",
    "version": 3
   },
   "file_extension": ".py",
   "mimetype": "text/x-python",
   "name": "python",
   "nbconvert_exporter": "python",
   "pygments_lexer": "ipython3",
   "version": "3.6.0"
  }
 },
 "nbformat": 4,
 "nbformat_minor": 2
}
